{
  "cells": [
    {
      "cell_type": "markdown",
      "metadata": {
        "id": "ji1akwIOYSXU"
      },
      "source": [
        "# Convolutional Neural Networks"
      ]
    },
    {
      "cell_type": "code",
      "source": [
        "from google.colab import files\n",
        "uploaded = files.upload()"
      ],
      "metadata": {
        "colab": {
          "base_uri": "https://localhost:8080/",
          "height": 73
        },
        "id": "GqI0ZDzofxrv",
        "outputId": "68ca3cdb-3251-441c-9797-a32c3f925a9d"
      },
      "execution_count": 13,
      "outputs": [
        {
          "output_type": "display_data",
          "data": {
            "text/plain": [
              "<IPython.core.display.HTML object>"
            ],
            "text/html": [
              "\n",
              "     <input type=\"file\" id=\"files-f9ff960a-1029-4159-912b-1d890be0d6d3\" name=\"files[]\" multiple disabled\n",
              "        style=\"border:none\" />\n",
              "     <output id=\"result-f9ff960a-1029-4159-912b-1d890be0d6d3\">\n",
              "      Upload widget is only available when the cell has been executed in the\n",
              "      current browser session. Please rerun this cell to enable.\n",
              "      </output>\n",
              "      <script>// Copyright 2017 Google LLC\n",
              "//\n",
              "// Licensed under the Apache License, Version 2.0 (the \"License\");\n",
              "// you may not use this file except in compliance with the License.\n",
              "// You may obtain a copy of the License at\n",
              "//\n",
              "//      http://www.apache.org/licenses/LICENSE-2.0\n",
              "//\n",
              "// Unless required by applicable law or agreed to in writing, software\n",
              "// distributed under the License is distributed on an \"AS IS\" BASIS,\n",
              "// WITHOUT WARRANTIES OR CONDITIONS OF ANY KIND, either express or implied.\n",
              "// See the License for the specific language governing permissions and\n",
              "// limitations under the License.\n",
              "\n",
              "/**\n",
              " * @fileoverview Helpers for google.colab Python module.\n",
              " */\n",
              "(function(scope) {\n",
              "function span(text, styleAttributes = {}) {\n",
              "  const element = document.createElement('span');\n",
              "  element.textContent = text;\n",
              "  for (const key of Object.keys(styleAttributes)) {\n",
              "    element.style[key] = styleAttributes[key];\n",
              "  }\n",
              "  return element;\n",
              "}\n",
              "\n",
              "// Max number of bytes which will be uploaded at a time.\n",
              "const MAX_PAYLOAD_SIZE = 100 * 1024;\n",
              "\n",
              "function _uploadFiles(inputId, outputId) {\n",
              "  const steps = uploadFilesStep(inputId, outputId);\n",
              "  const outputElement = document.getElementById(outputId);\n",
              "  // Cache steps on the outputElement to make it available for the next call\n",
              "  // to uploadFilesContinue from Python.\n",
              "  outputElement.steps = steps;\n",
              "\n",
              "  return _uploadFilesContinue(outputId);\n",
              "}\n",
              "\n",
              "// This is roughly an async generator (not supported in the browser yet),\n",
              "// where there are multiple asynchronous steps and the Python side is going\n",
              "// to poll for completion of each step.\n",
              "// This uses a Promise to block the python side on completion of each step,\n",
              "// then passes the result of the previous step as the input to the next step.\n",
              "function _uploadFilesContinue(outputId) {\n",
              "  const outputElement = document.getElementById(outputId);\n",
              "  const steps = outputElement.steps;\n",
              "\n",
              "  const next = steps.next(outputElement.lastPromiseValue);\n",
              "  return Promise.resolve(next.value.promise).then((value) => {\n",
              "    // Cache the last promise value to make it available to the next\n",
              "    // step of the generator.\n",
              "    outputElement.lastPromiseValue = value;\n",
              "    return next.value.response;\n",
              "  });\n",
              "}\n",
              "\n",
              "/**\n",
              " * Generator function which is called between each async step of the upload\n",
              " * process.\n",
              " * @param {string} inputId Element ID of the input file picker element.\n",
              " * @param {string} outputId Element ID of the output display.\n",
              " * @return {!Iterable<!Object>} Iterable of next steps.\n",
              " */\n",
              "function* uploadFilesStep(inputId, outputId) {\n",
              "  const inputElement = document.getElementById(inputId);\n",
              "  inputElement.disabled = false;\n",
              "\n",
              "  const outputElement = document.getElementById(outputId);\n",
              "  outputElement.innerHTML = '';\n",
              "\n",
              "  const pickedPromise = new Promise((resolve) => {\n",
              "    inputElement.addEventListener('change', (e) => {\n",
              "      resolve(e.target.files);\n",
              "    });\n",
              "  });\n",
              "\n",
              "  const cancel = document.createElement('button');\n",
              "  inputElement.parentElement.appendChild(cancel);\n",
              "  cancel.textContent = 'Cancel upload';\n",
              "  const cancelPromise = new Promise((resolve) => {\n",
              "    cancel.onclick = () => {\n",
              "      resolve(null);\n",
              "    };\n",
              "  });\n",
              "\n",
              "  // Wait for the user to pick the files.\n",
              "  const files = yield {\n",
              "    promise: Promise.race([pickedPromise, cancelPromise]),\n",
              "    response: {\n",
              "      action: 'starting',\n",
              "    }\n",
              "  };\n",
              "\n",
              "  cancel.remove();\n",
              "\n",
              "  // Disable the input element since further picks are not allowed.\n",
              "  inputElement.disabled = true;\n",
              "\n",
              "  if (!files) {\n",
              "    return {\n",
              "      response: {\n",
              "        action: 'complete',\n",
              "      }\n",
              "    };\n",
              "  }\n",
              "\n",
              "  for (const file of files) {\n",
              "    const li = document.createElement('li');\n",
              "    li.append(span(file.name, {fontWeight: 'bold'}));\n",
              "    li.append(span(\n",
              "        `(${file.type || 'n/a'}) - ${file.size} bytes, ` +\n",
              "        `last modified: ${\n",
              "            file.lastModifiedDate ? file.lastModifiedDate.toLocaleDateString() :\n",
              "                                    'n/a'} - `));\n",
              "    const percent = span('0% done');\n",
              "    li.appendChild(percent);\n",
              "\n",
              "    outputElement.appendChild(li);\n",
              "\n",
              "    const fileDataPromise = new Promise((resolve) => {\n",
              "      const reader = new FileReader();\n",
              "      reader.onload = (e) => {\n",
              "        resolve(e.target.result);\n",
              "      };\n",
              "      reader.readAsArrayBuffer(file);\n",
              "    });\n",
              "    // Wait for the data to be ready.\n",
              "    let fileData = yield {\n",
              "      promise: fileDataPromise,\n",
              "      response: {\n",
              "        action: 'continue',\n",
              "      }\n",
              "    };\n",
              "\n",
              "    // Use a chunked sending to avoid message size limits. See b/62115660.\n",
              "    let position = 0;\n",
              "    do {\n",
              "      const length = Math.min(fileData.byteLength - position, MAX_PAYLOAD_SIZE);\n",
              "      const chunk = new Uint8Array(fileData, position, length);\n",
              "      position += length;\n",
              "\n",
              "      const base64 = btoa(String.fromCharCode.apply(null, chunk));\n",
              "      yield {\n",
              "        response: {\n",
              "          action: 'append',\n",
              "          file: file.name,\n",
              "          data: base64,\n",
              "        },\n",
              "      };\n",
              "\n",
              "      let percentDone = fileData.byteLength === 0 ?\n",
              "          100 :\n",
              "          Math.round((position / fileData.byteLength) * 100);\n",
              "      percent.textContent = `${percentDone}% done`;\n",
              "\n",
              "    } while (position < fileData.byteLength);\n",
              "  }\n",
              "\n",
              "  // All done.\n",
              "  yield {\n",
              "    response: {\n",
              "      action: 'complete',\n",
              "    }\n",
              "  };\n",
              "}\n",
              "\n",
              "scope.google = scope.google || {};\n",
              "scope.google.colab = scope.google.colab || {};\n",
              "scope.google.colab._files = {\n",
              "  _uploadFiles,\n",
              "  _uploadFilesContinue,\n",
              "};\n",
              "})(self);\n",
              "</script> "
            ]
          },
          "metadata": {}
        },
        {
          "output_type": "stream",
          "name": "stdout",
          "text": [
            "Saving 3.3.sportimages.zip to 3.3.sportimages.zip\n"
          ]
        }
      ]
    },
    {
      "cell_type": "code",
      "source": [
        "from zipfile import ZipFile\n",
        "\n",
        "with ZipFile('3.3.sportimages.zip', 'r') as zip_ref:\n",
        "    zip_ref.extractall('/content/sportimages')"
      ],
      "metadata": {
        "id": "kFkIk9fGf9kd"
      },
      "execution_count": 15,
      "outputs": []
    },
    {
      "cell_type": "markdown",
      "metadata": {
        "id": "gY1SvlfDYSXW"
      },
      "source": [
        "# Importar Librerías"
      ]
    },
    {
      "cell_type": "code",
      "execution_count": 16,
      "metadata": {
        "ExecuteTime": {
          "end_time": "2018-11-08T00:12:59.231970Z",
          "start_time": "2018-11-08T00:12:51.800950Z"
        },
        "id": "1DA2xYryYSXX"
      },
      "outputs": [],
      "source": [
        "import numpy as np\n",
        "import os\n",
        "import re\n",
        "import matplotlib.pyplot as plt\n",
        "%matplotlib inline\n",
        "from sklearn.model_selection import train_test_split\n",
        "from sklearn.metrics import classification_report"
      ]
    },
    {
      "cell_type": "code",
      "execution_count": 18,
      "metadata": {
        "ExecuteTime": {
          "end_time": "2018-11-08T00:13:12.550878Z",
          "start_time": "2018-11-08T00:12:59.234748Z"
        },
        "id": "gqaylFNvYSXY"
      },
      "outputs": [],
      "source": [
        "import tensorflow as tf\n",
        "import keras\n",
        "from keras.utils import to_categorical\n",
        "from tensorflow.python.keras.layers import Input\n",
        "from keras.models import Sequential, Model\n",
        "from keras.layers import Dense, Dropout, Flatten\n",
        "from keras.layers import Conv2D, MaxPooling2D\n",
        "from keras.layers import BatchNormalization\n",
        "from keras.layers import LeakyReLU"
      ]
    },
    {
      "cell_type": "markdown",
      "metadata": {
        "id": "YI6f7URHYSXZ"
      },
      "source": [
        "# Cargar set de Imágenes"
      ]
    },
    {
      "cell_type": "code",
      "execution_count": 19,
      "metadata": {
        "ExecuteTime": {
          "end_time": "2018-11-08T00:16:45.248080Z",
          "start_time": "2018-11-08T00:13:12.553292Z"
        },
        "scrolled": true,
        "colab": {
          "base_uri": "https://localhost:8080/"
        },
        "id": "QVYp7Hf-YSXa",
        "outputId": "aeb35242-e26a-4421-8967-44a2a4825606"
      },
      "outputs": [
        {
          "output_type": "stream",
          "name": "stdout",
          "text": [
            "leyendo imagenes de  /content/sportimages/\n",
            "/content/sportimages/sportimages/f1 1\n",
            "/content/sportimages/sportimages/basket 5053\n",
            "/content/sportimages/sportimages/tenis 8823\n",
            "/content/sportimages/sportimages/boxeo 8937\n",
            "/content/sportimages/sportimages/ciclismo 7125\n",
            "/content/sportimages/sportimages/natacion 7533\n",
            "/content/sportimages/sportimages/futbol 5172\n",
            "/content/sportimages/sportimages/americano 7617\n",
            "/content/sportimages/sportimages/beisball 9348\n",
            "/content/sportimages/sportimages/golf 7752\n",
            "Directorios leidos: 10\n",
            "Imagenes en cada directorio [5054, 8823, 8937, 7125, 7533, 5172, 7617, 9348, 7752, 9767]\n",
            "suma Total de imagenes en subdirs: 77128\n"
          ]
        }
      ],
      "source": [
        "dirname = os.path.join(os.getcwd(), 'sportimages')\n",
        "imgpath = dirname + os.sep\n",
        "\n",
        "images = []\n",
        "directories = []\n",
        "dircount = []\n",
        "prevRoot=''\n",
        "cant=0\n",
        "\n",
        "print(\"leyendo imagenes de \",imgpath)\n",
        "\n",
        "for root, dirnames, filenames in os.walk(imgpath):\n",
        "    for filename in filenames:\n",
        "        if re.search(\"\\.(jpg|jpeg|png|bmp|tiff)$\", filename):\n",
        "            cant=cant+1\n",
        "            filepath = os.path.join(root, filename)\n",
        "            image = plt.imread(filepath)\n",
        "            images.append(image)\n",
        "            b = \"Leyendo...\" + str(cant)\n",
        "            print (b, end=\"\\r\")\n",
        "            if prevRoot !=root:\n",
        "                print(root, cant)\n",
        "                prevRoot=root\n",
        "                directories.append(root)\n",
        "                dircount.append(cant)\n",
        "                cant=0\n",
        "dircount.append(cant)\n",
        "\n",
        "dircount = dircount[1:]\n",
        "dircount[0]=dircount[0]+1\n",
        "print('Directorios leidos:',len(directories))\n",
        "print(\"Imagenes en cada directorio\", dircount)\n",
        "print('suma Total de imagenes en subdirs:',sum(dircount))"
      ]
    },
    {
      "cell_type": "markdown",
      "metadata": {
        "id": "6p18eZVUYSXa"
      },
      "source": [
        "# Creamos las etiquetas"
      ]
    },
    {
      "cell_type": "code",
      "execution_count": 20,
      "metadata": {
        "ExecuteTime": {
          "end_time": "2018-11-08T00:16:45.269861Z",
          "start_time": "2018-11-08T00:16:45.251786Z"
        },
        "colab": {
          "base_uri": "https://localhost:8080/"
        },
        "id": "TVLpinbpYSXb",
        "outputId": "02761d76-51b9-45dd-ea35-2d2065a4002a"
      },
      "outputs": [
        {
          "output_type": "stream",
          "name": "stdout",
          "text": [
            "Cantidad etiquetas creadas:  77128\n"
          ]
        }
      ],
      "source": [
        "labels=[]\n",
        "indice=0\n",
        "for cantidad in dircount:\n",
        "    for i in range(cantidad):\n",
        "        labels.append(indice)\n",
        "    indice=indice+1\n",
        "print(\"Cantidad etiquetas creadas: \",len(labels))"
      ]
    },
    {
      "cell_type": "code",
      "execution_count": 21,
      "metadata": {
        "ExecuteTime": {
          "end_time": "2018-11-08T00:16:45.285925Z",
          "start_time": "2018-11-08T00:16:45.273489Z"
        },
        "colab": {
          "base_uri": "https://localhost:8080/"
        },
        "id": "haoF2-40YSXb",
        "outputId": "f0cd378c-2c68-41ca-c774-3763ad87de2c"
      },
      "outputs": [
        {
          "output_type": "stream",
          "name": "stdout",
          "text": [
            "0 f1\n",
            "1 basket\n",
            "2 tenis\n",
            "3 boxeo\n",
            "4 ciclismo\n",
            "5 natacion\n",
            "6 futbol\n",
            "7 americano\n",
            "8 beisball\n",
            "9 golf\n"
          ]
        }
      ],
      "source": [
        "deportes=[]\n",
        "indice=0\n",
        "for directorio in directories:\n",
        "    name = directorio.split(os.sep)\n",
        "    print(indice , name[len(name)-1])\n",
        "    deportes.append(name[len(name)-1])\n",
        "    indice=indice+1"
      ]
    },
    {
      "cell_type": "code",
      "execution_count": 22,
      "metadata": {
        "ExecuteTime": {
          "end_time": "2018-11-08T00:16:45.498672Z",
          "start_time": "2018-11-08T00:16:45.290061Z"
        },
        "colab": {
          "base_uri": "https://localhost:8080/"
        },
        "id": "skBQMqccYSXb",
        "outputId": "553154df-04b5-4f92-f55c-4f6ed97992db"
      },
      "outputs": [
        {
          "output_type": "stream",
          "name": "stdout",
          "text": [
            "Total number of outputs :  10\n",
            "Output classes :  [0 1 2 3 4 5 6 7 8 9]\n"
          ]
        }
      ],
      "source": [
        "y = np.array(labels)\n",
        "X = np.array(images, dtype=np.uint8) #convierto de lista a numpy\n",
        "\n",
        "# Find the unique numbers from the train labels\n",
        "classes = np.unique(y)\n",
        "nClasses = len(classes)\n",
        "print('Total number of outputs : ', nClasses)\n",
        "print('Output classes : ', classes)"
      ]
    },
    {
      "cell_type": "markdown",
      "metadata": {
        "id": "J8_Yb76xYSXc"
      },
      "source": [
        "# Creamos Sets de Entrenamiento y Test"
      ]
    },
    {
      "cell_type": "code",
      "execution_count": 23,
      "metadata": {
        "ExecuteTime": {
          "end_time": "2018-11-08T00:16:45.669596Z",
          "start_time": "2018-11-08T00:16:45.502716Z"
        },
        "colab": {
          "base_uri": "https://localhost:8080/"
        },
        "id": "bCvZx2pMYSXc",
        "outputId": "30832155-9304-4212-f8ea-01a1115edce4"
      },
      "outputs": [
        {
          "output_type": "stream",
          "name": "stdout",
          "text": [
            "Training data shape :  (61702, 21, 28, 3) (61702,)\n",
            "Testing data shape :  (15426, 21, 28, 3) (15426,)\n"
          ]
        }
      ],
      "source": [
        "train_X,test_X,train_Y,test_Y = train_test_split(X,y,test_size=0.2)\n",
        "print('Training data shape : ', train_X.shape, train_Y.shape)\n",
        "print('Testing data shape : ', test_X.shape, test_Y.shape)"
      ]
    },
    {
      "cell_type": "code",
      "execution_count": 24,
      "metadata": {
        "ExecuteTime": {
          "end_time": "2018-11-08T00:16:49.319746Z",
          "start_time": "2018-11-08T00:16:45.673944Z"
        },
        "colab": {
          "base_uri": "https://localhost:8080/",
          "height": 232
        },
        "id": "9K5vKIiHYSXc",
        "outputId": "25dadcf4-4874-4469-a436-d7302e3a4c88"
      },
      "outputs": [
        {
          "output_type": "execute_result",
          "data": {
            "text/plain": [
              "Text(0.5, 1.0, 'Ground Truth : 7')"
            ]
          },
          "metadata": {},
          "execution_count": 24
        },
        {
          "output_type": "display_data",
          "data": {
            "text/plain": [
              "<Figure size 500x500 with 2 Axes>"
            ],
            "image/png": "[encoded data removed]"
          },
          "metadata": {}
        }
      ],
      "source": [
        "plt.figure(figsize=[5,5])\n",
        "\n",
        "# Display the first image in training data\n",
        "plt.subplot(121)\n",
        "plt.imshow(train_X[0,:,:], cmap='gray')\n",
        "plt.title(\"Ground Truth : {}\".format(train_Y[0]))\n",
        "\n",
        "# Display the first image in testing data\n",
        "plt.subplot(122)\n",
        "plt.imshow(test_X[0,:,:], cmap='gray')\n",
        "plt.title(\"Ground Truth : {}\".format(test_Y[0]))"
      ]
    },
    {
      "cell_type": "markdown",
      "metadata": {
        "id": "5g4kqlFEYSXc"
      },
      "source": [
        "# Preprocesamos las imagenes"
      ]
    },
    {
      "cell_type": "code",
      "execution_count": 25,
      "metadata": {
        "ExecuteTime": {
          "end_time": "2018-11-08T00:16:50.798162Z",
          "start_time": "2018-11-08T00:16:49.322999Z"
        },
        "id": "fk_6YVdSYSXd"
      },
      "outputs": [],
      "source": [
        "train_X = train_X.astype('float32')\n",
        "test_X = test_X.astype('float32')\n",
        "train_X = train_X / 255.\n",
        "test_X = test_X / 255."
      ]
    },
    {
      "cell_type": "markdown",
      "metadata": {
        "id": "-XMzVXLqYSXd"
      },
      "source": [
        "## Hacemos el One-hot Encoding para la red"
      ]
    },
    {
      "cell_type": "code",
      "execution_count": 26,
      "metadata": {
        "ExecuteTime": {
          "end_time": "2018-11-08T00:16:50.815482Z",
          "start_time": "2018-11-08T00:16:50.800831Z"
        },
        "colab": {
          "base_uri": "https://localhost:8080/"
        },
        "id": "y0eIr7Y7YSXd",
        "outputId": "fc637616-c4e0-4f89-9b75-223ce6b862da"
      },
      "outputs": [
        {
          "output_type": "stream",
          "name": "stdout",
          "text": [
            "Original label: 3\n",
            "After conversion to one-hot: [0. 0. 0. 1. 0. 0. 0. 0. 0. 0.]\n"
          ]
        }
      ],
      "source": [
        "# Change the labels from categorical to one-hot encoding\n",
        "train_Y_one_hot = to_categorical(train_Y)\n",
        "test_Y_one_hot = to_categorical(test_Y)\n",
        "\n",
        "# Display the change for category label using one-hot encoding\n",
        "print('Original label:', train_Y[0])\n",
        "print('After conversion to one-hot:', train_Y_one_hot[0])"
      ]
    },
    {
      "cell_type": "markdown",
      "metadata": {
        "id": "lSIfRilCYSXd"
      },
      "source": [
        "# Creamos el Set de Entrenamiento y Validación"
      ]
    },
    {
      "cell_type": "code",
      "execution_count": 27,
      "metadata": {
        "ExecuteTime": {
          "end_time": "2018-11-08T00:16:51.218520Z",
          "start_time": "2018-11-08T00:16:50.818992Z"
        },
        "id": "Ixp1PNCRYSXd"
      },
      "outputs": [],
      "source": [
        "#Mezclar todo y crear los grupos de entrenamiento y testing\n",
        "train_X,valid_X,train_label,valid_label = train_test_split(train_X, train_Y_one_hot, test_size=0.2, random_state=13)"
      ]
    },
    {
      "cell_type": "code",
      "execution_count": null,
      "metadata": {
        "ExecuteTime": {
          "end_time": "2018-11-08T00:16:51.228116Z",
          "start_time": "2018-11-08T00:16:51.222460Z"
        },
        "id": "cr8rSh6SYSXd",
        "outputId": "c3c2b3e9-8a1c-4031-9b11-21626517102c"
      },
      "outputs": [
        {
          "name": "stdout",
          "output_type": "stream",
          "text": [
            "(98723, 21, 28, 3) (24681, 21, 28, 3) (98723, 20) (24681, 20)\n"
          ]
        }
      ],
      "source": [
        "print(train_X.shape,valid_X.shape,train_label.shape,valid_label.shape)"
      ]
    },
    {
      "cell_type": "markdown",
      "metadata": {
        "id": "y89tZ3cpYSXd"
      },
      "source": [
        "# Creamos el modelo de CNN"
      ]
    },
    {
      "cell_type": "code",
      "execution_count": 28,
      "metadata": {
        "ExecuteTime": {
          "end_time": "2018-11-08T00:16:51.244776Z",
          "start_time": "2018-11-08T00:16:51.238704Z"
        },
        "id": "oUKSHH4jYSXe"
      },
      "outputs": [],
      "source": [
        "#declaramos variables con los parámetros de configuración de la red\n",
        "INIT_LR = 1e-3 # Valor inicial de learning rate. El valor 1e-3 corresponde con 0.001\n",
        "epochs = 6 # Cantidad de iteraciones completas al conjunto de imagenes de entrenamiento\n",
        "batch_size = 64 # cantidad de imágenes que se toman a la vez en memoria"
      ]
    },
    {
      "cell_type": "code",
      "execution_count": 29,
      "metadata": {
        "ExecuteTime": {
          "end_time": "2018-11-08T00:16:51.384131Z",
          "start_time": "2018-11-08T00:16:51.252188Z"
        },
        "colab": {
          "base_uri": "https://localhost:8080/"
        },
        "id": "iKgEdbhTYSXe",
        "outputId": "3bb74ab2-2b89-4488-e45b-53ca4c2c42ba"
      },
      "outputs": [
        {
          "output_type": "stream",
          "name": "stderr",
          "text": [
            "/usr/local/lib/python3.11/dist-packages/keras/src/layers/convolutional/base_conv.py:107: UserWarning: Do not pass an `input_shape`/`input_dim` argument to a layer. When using Sequential models, prefer using an `Input(shape)` object as the first layer in the model instead.\n",
            "  super().__init__(activity_regularizer=activity_regularizer, **kwargs)\n"
          ]
        }
      ],
      "source": [
        "sport_model = Sequential()\n",
        "sport_model.add(Conv2D(32, kernel_size=(3, 3),activation='linear',padding='same',input_shape=(21,28,3)))\n",
        "sport_model.add(LeakyReLU(negative_slope=0.1))\n",
        "sport_model.add(MaxPooling2D((2, 2),padding='same'))\n",
        "sport_model.add(Dropout(0.5))\n",
        "\n",
        "sport_model.add(Flatten())\n",
        "sport_model.add(Dense(32, activation='linear'))\n",
        "sport_model.add(LeakyReLU(negative_slope=0.1))\n",
        "sport_model.add(Dropout(0.5))\n",
        "sport_model.add(Dense(nClasses, activation='softmax'))"
      ]
    },
    {
      "cell_type": "code",
      "execution_count": 30,
      "metadata": {
        "ExecuteTime": {
          "end_time": "2018-11-08T00:16:51.401674Z",
          "start_time": "2018-11-08T00:16:51.386676Z"
        },
        "colab": {
          "base_uri": "https://localhost:8080/",
          "height": 417
        },
        "id": "r9wVpd86YSXe",
        "outputId": "18292183-d03a-4d5b-f69f-b3a9cefbb2b3"
      },
      "outputs": [
        {
          "output_type": "display_data",
          "data": {
            "text/plain": [
              "\u001b[1mModel: \"sequential\"\u001b[0m\n"
            ],
            "text/html": [
              "<pre style=\"white-space:pre;overflow-x:auto;line-height:normal;font-family:Menlo,'DejaVu Sans Mono',consolas,'Courier New',monospace\"><span style=\"font-weight: bold\">Model: \"sequential\"</span>\n",
              "</pre>\n"
            ]
          },
          "metadata": {}
        },
        {
          "output_type": "display_data",
          "data": {
            "text/plain": [
              "┏━━━━━━━━━━━━━━━━━━━━━━━━━━━━━━━━━┳━━━━━━━━━━━━━━━━━━━━━━━━┳━━━━━━━━━━━━━━━┓\n",
              "┃\u001b[1m \u001b[0m\u001b[1mLayer (type)                   \u001b[0m\u001b[1m \u001b[0m┃\u001b[1m \u001b[0m\u001b[1mOutput Shape          \u001b[0m\u001b[1m \u001b[0m┃\u001b[1m \u001b[0m\u001b[1m      Param #\u001b[0m\u001b[1m \u001b[0m┃\n",
              "┡━━━━━━━━━━━━━━━━━━━━━━━━━━━━━━━━━╇━━━━━━━━━━━━━━━━━━━━━━━━╇━━━━━━━━━━━━━━━┩\n",
              "│ conv2d (\u001b[38;5;33mConv2D\u001b[0m)                 │ (\u001b[38;5;45mNone\u001b[0m, \u001b[38;5;34m21\u001b[0m, \u001b[38;5;34m28\u001b[0m, \u001b[38;5;34m32\u001b[0m)     │           \u001b[38;5;34m896\u001b[0m │\n",
              "├─────────────────────────────────┼────────────────────────┼───────────────┤\n",
              "│ leaky_re_lu (\u001b[38;5;33mLeakyReLU\u001b[0m)         │ (\u001b[38;5;45mNone\u001b[0m, \u001b[38;5;34m21\u001b[0m, \u001b[38;5;34m28\u001b[0m, \u001b[38;5;34m32\u001b[0m)     │             \u001b[38;5;34m0\u001b[0m │\n",
              "├─────────────────────────────────┼────────────────────────┼───────────────┤\n",
              "│ max_pooling2d (\u001b[38;5;33mMaxPooling2D\u001b[0m)    │ (\u001b[38;5;45mNone\u001b[0m, \u001b[38;5;34m11\u001b[0m, \u001b[38;5;34m14\u001b[0m, \u001b[38;5;34m32\u001b[0m)     │             \u001b[38;5;34m0\u001b[0m │\n",
              "├─────────────────────────────────┼────────────────────────┼───────────────┤\n",
              "│ dropout (\u001b[38;5;33mDropout\u001b[0m)               │ (\u001b[38;5;45mNone\u001b[0m, \u001b[38;5;34m11\u001b[0m, \u001b[38;5;34m14\u001b[0m, \u001b[38;5;34m32\u001b[0m)     │             \u001b[38;5;34m0\u001b[0m │\n",
              "├─────────────────────────────────┼────────────────────────┼───────────────┤\n",
              "│ flatten (\u001b[38;5;33mFlatten\u001b[0m)               │ (\u001b[38;5;45mNone\u001b[0m, \u001b[38;5;34m4928\u001b[0m)           │             \u001b[38;5;34m0\u001b[0m │\n",
              "├─────────────────────────────────┼────────────────────────┼───────────────┤\n",
              "│ dense (\u001b[38;5;33mDense\u001b[0m)                   │ (\u001b[38;5;45mNone\u001b[0m, \u001b[38;5;34m32\u001b[0m)             │       \u001b[38;5;34m157,728\u001b[0m │\n",
              "├─────────────────────────────────┼────────────────────────┼───────────────┤\n",
              "│ leaky_re_lu_1 (\u001b[38;5;33mLeakyReLU\u001b[0m)       │ (\u001b[38;5;45mNone\u001b[0m, \u001b[38;5;34m32\u001b[0m)             │             \u001b[38;5;34m0\u001b[0m │\n",
              "├─────────────────────────────────┼────────────────────────┼───────────────┤\n",
              "│ dropout_1 (\u001b[38;5;33mDropout\u001b[0m)             │ (\u001b[38;5;45mNone\u001b[0m, \u001b[38;5;34m32\u001b[0m)             │             \u001b[38;5;34m0\u001b[0m │\n",
              "├─────────────────────────────────┼────────────────────────┼───────────────┤\n",
              "│ dense_1 (\u001b[38;5;33mDense\u001b[0m)                 │ (\u001b[38;5;45mNone\u001b[0m, \u001b[38;5;34m10\u001b[0m)             │           \u001b[38;5;34m330\u001b[0m │\n",
              "└─────────────────────────────────┴────────────────────────┴───────────────┘\n"
            ],
            "text/html": [
              "<pre style=\"white-space:pre;overflow-x:auto;line-height:normal;font-family:Menlo,'DejaVu Sans Mono',consolas,'Courier New',monospace\">┏━━━━━━━━━━━━━━━━━━━━━━━━━━━━━━━━━┳━━━━━━━━━━━━━━━━━━━━━━━━┳━━━━━━━━━━━━━━━┓\n",
              "┃<span style=\"font-weight: bold\"> Layer (type)                    </span>┃<span style=\"font-weight: bold\"> Output Shape           </span>┃<span style=\"font-weight: bold\">       Param # </span>┃\n",
              "┡━━━━━━━━━━━━━━━━━━━━━━━━━━━━━━━━━╇━━━━━━━━━━━━━━━━━━━━━━━━╇━━━━━━━━━━━━━━━┩\n",
              "│ conv2d (<span style=\"color: #0087ff; text-decoration-color: #0087ff\">Conv2D</span>)                 │ (<span style=\"color: #00d7ff; text-decoration-color: #00d7ff\">None</span>, <span style=\"color: #00af00; text-decoration-color: #00af00\">21</span>, <span style=\"color: #00af00; text-decoration-color: #00af00\">28</span>, <span style=\"color: #00af00; text-decoration-color: #00af00\">32</span>)     │           <span style=\"color: #00af00; text-decoration-color: #00af00\">896</span> │\n",
              "├─────────────────────────────────┼────────────────────────┼───────────────┤\n",
              "│ leaky_re_lu (<span style=\"color: #0087ff; text-decoration-color: #0087ff\">LeakyReLU</span>)         │ (<span style=\"color: #00d7ff; text-decoration-color: #00d7ff\">None</span>, <span style=\"color: #00af00; text-decoration-color: #00af00\">21</span>, <span style=\"color: #00af00; text-decoration-color: #00af00\">28</span>, <span style=\"color: #00af00; text-decoration-color: #00af00\">32</span>)     │             <span style=\"color: #00af00; text-decoration-color: #00af00\">0</span> │\n",
              "├─────────────────────────────────┼────────────────────────┼───────────────┤\n",
              "│ max_pooling2d (<span style=\"color: #0087ff; text-decoration-color: #0087ff\">MaxPooling2D</span>)    │ (<span style=\"color: #00d7ff; text-decoration-color: #00d7ff\">None</span>, <span style=\"color: #00af00; text-decoration-color: #00af00\">11</span>, <span style=\"color: #00af00; text-decoration-color: #00af00\">14</span>, <span style=\"color: #00af00; text-decoration-color: #00af00\">32</span>)     │             <span style=\"color: #00af00; text-decoration-color: #00af00\">0</span> │\n",
              "├─────────────────────────────────┼────────────────────────┼───────────────┤\n",
              "│ dropout (<span style=\"color: #0087ff; text-decoration-color: #0087ff\">Dropout</span>)               │ (<span style=\"color: #00d7ff; text-decoration-color: #00d7ff\">None</span>, <span style=\"color: #00af00; text-decoration-color: #00af00\">11</span>, <span style=\"color: #00af00; text-decoration-color: #00af00\">14</span>, <span style=\"color: #00af00; text-decoration-color: #00af00\">32</span>)     │             <span style=\"color: #00af00; text-decoration-color: #00af00\">0</span> │\n",
              "├─────────────────────────────────┼────────────────────────┼───────────────┤\n",
              "│ flatten (<span style=\"color: #0087ff; text-decoration-color: #0087ff\">Flatten</span>)               │ (<span style=\"color: #00d7ff; text-decoration-color: #00d7ff\">None</span>, <span style=\"color: #00af00; text-decoration-color: #00af00\">4928</span>)           │             <span style=\"color: #00af00; text-decoration-color: #00af00\">0</span> │\n",
              "├─────────────────────────────────┼────────────────────────┼───────────────┤\n",
              "│ dense (<span style=\"color: #0087ff; text-decoration-color: #0087ff\">Dense</span>)                   │ (<span style=\"color: #00d7ff; text-decoration-color: #00d7ff\">None</span>, <span style=\"color: #00af00; text-decoration-color: #00af00\">32</span>)             │       <span style=\"color: #00af00; text-decoration-color: #00af00\">157,728</span> │\n",
              "├─────────────────────────────────┼────────────────────────┼───────────────┤\n",
              "│ leaky_re_lu_1 (<span style=\"color: #0087ff; text-decoration-color: #0087ff\">LeakyReLU</span>)       │ (<span style=\"color: #00d7ff; text-decoration-color: #00d7ff\">None</span>, <span style=\"color: #00af00; text-decoration-color: #00af00\">32</span>)             │             <span style=\"color: #00af00; text-decoration-color: #00af00\">0</span> │\n",
              "├─────────────────────────────────┼────────────────────────┼───────────────┤\n",
              "│ dropout_1 (<span style=\"color: #0087ff; text-decoration-color: #0087ff\">Dropout</span>)             │ (<span style=\"color: #00d7ff; text-decoration-color: #00d7ff\">None</span>, <span style=\"color: #00af00; text-decoration-color: #00af00\">32</span>)             │             <span style=\"color: #00af00; text-decoration-color: #00af00\">0</span> │\n",
              "├─────────────────────────────────┼────────────────────────┼───────────────┤\n",
              "│ dense_1 (<span style=\"color: #0087ff; text-decoration-color: #0087ff\">Dense</span>)                 │ (<span style=\"color: #00d7ff; text-decoration-color: #00d7ff\">None</span>, <span style=\"color: #00af00; text-decoration-color: #00af00\">10</span>)             │           <span style=\"color: #00af00; text-decoration-color: #00af00\">330</span> │\n",
              "└─────────────────────────────────┴────────────────────────┴───────────────┘\n",
              "</pre>\n"
            ]
          },
          "metadata": {}
        },
        {
          "output_type": "display_data",
          "data": {
            "text/plain": [
              "\u001b[1m Total params: \u001b[0m\u001b[38;5;34m158,954\u001b[0m (620.91 KB)\n"
            ],
            "text/html": [
              "<pre style=\"white-space:pre;overflow-x:auto;line-height:normal;font-family:Menlo,'DejaVu Sans Mono',consolas,'Courier New',monospace\"><span style=\"font-weight: bold\"> Total params: </span><span style=\"color: #00af00; text-decoration-color: #00af00\">158,954</span> (620.91 KB)\n",
              "</pre>\n"
            ]
          },
          "metadata": {}
        },
        {
          "output_type": "display_data",
          "data": {
            "text/plain": [
              "\u001b[1m Trainable params: \u001b[0m\u001b[38;5;34m158,954\u001b[0m (620.91 KB)\n"
            ],
            "text/html": [
              "<pre style=\"white-space:pre;overflow-x:auto;line-height:normal;font-family:Menlo,'DejaVu Sans Mono',consolas,'Courier New',monospace\"><span style=\"font-weight: bold\"> Trainable params: </span><span style=\"color: #00af00; text-decoration-color: #00af00\">158,954</span> (620.91 KB)\n",
              "</pre>\n"
            ]
          },
          "metadata": {}
        },
        {
          "output_type": "display_data",
          "data": {
            "text/plain": [
              "\u001b[1m Non-trainable params: \u001b[0m\u001b[38;5;34m0\u001b[0m (0.00 B)\n"
            ],
            "text/html": [
              "<pre style=\"white-space:pre;overflow-x:auto;line-height:normal;font-family:Menlo,'DejaVu Sans Mono',consolas,'Courier New',monospace\"><span style=\"font-weight: bold\"> Non-trainable params: </span><span style=\"color: #00af00; text-decoration-color: #00af00\">0</span> (0.00 B)\n",
              "</pre>\n"
            ]
          },
          "metadata": {}
        }
      ],
      "source": [
        "sport_model.summary()"
      ]
    },
    {
      "cell_type": "code",
      "execution_count": 31,
      "metadata": {
        "ExecuteTime": {
          "end_time": "2018-11-08T00:16:51.472349Z",
          "start_time": "2018-11-08T00:16:51.406817Z"
        },
        "id": "Hit5qiGtYSXe"
      },
      "outputs": [],
      "source": [
        "sport_model.compile(loss=keras.losses.categorical_crossentropy, optimizer=keras.optimizers.Adagrad(learning_rate=INIT_LR, weight_decay=INIT_LR / 100),metrics=['accuracy'])"
      ]
    },
    {
      "cell_type": "markdown",
      "metadata": {
        "id": "_lVDjxDVYSXe"
      },
      "source": [
        "# Entrenamos el modelo: Aprende a clasificar imágenes"
      ]
    },
    {
      "cell_type": "code",
      "execution_count": 32,
      "metadata": {
        "ExecuteTime": {
          "end_time": "2018-11-08T00:20:49.562522Z",
          "start_time": "2018-11-08T00:16:51.474807Z"
        },
        "colab": {
          "base_uri": "https://localhost:8080/"
        },
        "id": "1MYdloUEYSXe",
        "outputId": "a29067d8-6d6c-42f3-8412-04590d7aaf35"
      },
      "outputs": [
        {
          "output_type": "stream",
          "name": "stdout",
          "text": [
            "Epoch 1/6\n",
            "\u001b[1m772/772\u001b[0m \u001b[32m━━━━━━━━━━━━━━━━━━━━\u001b[0m\u001b[37m\u001b[0m \u001b[1m34s\u001b[0m 43ms/step - accuracy: 0.1524 - loss: 2.2553 - val_accuracy: 0.4700 - val_loss: 1.9631\n",
            "Epoch 2/6\n",
            "\u001b[1m772/772\u001b[0m \u001b[32m━━━━━━━━━━━━━━━━━━━━\u001b[0m\u001b[37m\u001b[0m \u001b[1m39s\u001b[0m 40ms/step - accuracy: 0.3176 - loss: 1.9749 - val_accuracy: 0.5989 - val_loss: 1.6296\n",
            "Epoch 3/6\n",
            "\u001b[1m772/772\u001b[0m \u001b[32m━━━━━━━━━━━━━━━━━━━━\u001b[0m\u001b[37m\u001b[0m \u001b[1m40s\u001b[0m 39ms/step - accuracy: 0.4093 - loss: 1.7286 - val_accuracy: 0.6520 - val_loss: 1.4078\n",
            "Epoch 4/6\n",
            "\u001b[1m772/772\u001b[0m \u001b[32m━━━━━━━━━━━━━━━━━━━━\u001b[0m\u001b[37m\u001b[0m \u001b[1m41s\u001b[0m 39ms/step - accuracy: 0.4655 - loss: 1.5764 - val_accuracy: 0.6901 - val_loss: 1.2588\n",
            "Epoch 5/6\n",
            "\u001b[1m772/772\u001b[0m \u001b[32m━━━━━━━━━━━━━━━━━━━━\u001b[0m\u001b[37m\u001b[0m \u001b[1m40s\u001b[0m 37ms/step - accuracy: 0.5011 - loss: 1.4655 - val_accuracy: 0.7185 - val_loss: 1.1409\n",
            "Epoch 6/6\n",
            "\u001b[1m772/772\u001b[0m \u001b[32m━━━━━━━━━━━━━━━━━━━━\u001b[0m\u001b[37m\u001b[0m \u001b[1m44s\u001b[0m 41ms/step - accuracy: 0.5368 - loss: 1.3645 - val_accuracy: 0.7388 - val_loss: 1.0593\n"
          ]
        }
      ],
      "source": [
        "# este paso puede tomar varios minutos, dependiendo de tu ordenador, cpu y memoria ram libre\n",
        "sport_train = sport_model.fit(train_X, train_label, batch_size=batch_size,epochs=epochs,verbose=1,validation_data=(valid_X, valid_label))\n",
        "#sport_train = sport_model.fit(train_X, train_label, batch_size=batch_size,epochs=epochs,verbose=1,validation_data=(valid_X, valid_label))"
      ]
    },
    {
      "cell_type": "code",
      "execution_count": 33,
      "metadata": {
        "ExecuteTime": {
          "end_time": "2018-11-08T00:20:49.676566Z",
          "start_time": "2018-11-08T00:20:49.566203Z"
        },
        "id": "12kqvbVCYSXe"
      },
      "outputs": [],
      "source": [
        "# guardamos la red, para reutilizarla en el futuro, sin tener que volver a entrenar\n",
        "#sport_model.save(\"sports_mnist.h5py\")\n",
        "sport_model.save(\"sports_mnist.keras\")"
      ]
    },
    {
      "cell_type": "markdown",
      "metadata": {
        "id": "pLGYqD9hYSXf"
      },
      "source": [
        "# Evaluamos la red"
      ]
    },
    {
      "cell_type": "code",
      "execution_count": 34,
      "metadata": {
        "ExecuteTime": {
          "end_time": "2018-11-08T00:20:54.462929Z",
          "start_time": "2018-11-08T00:20:49.678643Z"
        },
        "colab": {
          "base_uri": "https://localhost:8080/"
        },
        "id": "YZYcRpezYSXf",
        "outputId": "61e3f4a2-56d4-4993-febe-00ccab8a8f34"
      },
      "outputs": [
        {
          "output_type": "stream",
          "name": "stdout",
          "text": [
            "\u001b[1m483/483\u001b[0m \u001b[32m━━━━━━━━━━━━━━━━━━━━\u001b[0m\u001b[37m\u001b[0m \u001b[1m4s\u001b[0m 8ms/step - accuracy: 0.7334 - loss: 1.0733\n"
          ]
        }
      ],
      "source": [
        "test_eval = sport_model.evaluate(test_X, test_Y_one_hot, verbose=1)"
      ]
    },
    {
      "cell_type": "code",
      "execution_count": 35,
      "metadata": {
        "ExecuteTime": {
          "end_time": "2018-11-08T00:20:54.474683Z",
          "start_time": "2018-11-08T00:20:54.465378Z"
        },
        "colab": {
          "base_uri": "https://localhost:8080/"
        },
        "id": "u-RUYk_TYSXf",
        "outputId": "1150ecf0-6be8-46d0-a6f8-73ce2ae4a72a"
      },
      "outputs": [
        {
          "output_type": "stream",
          "name": "stdout",
          "text": [
            "Test loss: 1.0696104764938354\n",
            "Test accuracy: 0.7320109009742737\n"
          ]
        }
      ],
      "source": [
        "print('Test loss:', test_eval[0])\n",
        "print('Test accuracy:', test_eval[1])"
      ]
    },
    {
      "cell_type": "code",
      "execution_count": 39,
      "metadata": {
        "ExecuteTime": {
          "end_time": "2018-11-08T00:20:55.014647Z",
          "start_time": "2018-11-08T00:20:54.479693Z"
        },
        "colab": {
          "base_uri": "https://localhost:8080/",
          "height": 887
        },
        "id": "uo6_AH7pYSXf",
        "outputId": "391432ba-4a96-46e9-da73-b1f78e97fa6f"
      },
      "outputs": [
        {
          "output_type": "display_data",
          "data": {
            "text/plain": [
              "<Figure size 640x480 with 1 Axes>"
            ],
            "image/png": "[encoded data removed]"
          },
          "metadata": {}
        },
        {
          "output_type": "display_data",
          "data": {
            "text/plain": [
              "<Figure size 640x480 with 1 Axes>"
            ],
            "image/png": "[encoded data removed]"
          },
          "metadata": {}
        }
      ],
      "source": [
        "accuracy = sport_train.history['accuracy']\n",
        "val_accuracy = sport_train.history['val_accuracy']\n",
        "loss = sport_train.history['loss']\n",
        "val_loss = sport_train.history['val_loss']\n",
        "epochs = range(len(accuracy))\n",
        "plt.plot(epochs, accuracy, 'bo', label='Training accuracy')\n",
        "plt.plot(epochs, val_accuracy, 'b', label='Validation accuracy')\n",
        "plt.title('Training and validation accuracy')\n",
        "plt.legend()\n",
        "plt.figure()\n",
        "plt.plot(epochs, loss, 'bo', label='Training loss')\n",
        "plt.plot(epochs, val_loss, 'b', label='Validation loss')\n",
        "plt.title('Training and validation loss')\n",
        "plt.legend()\n",
        "plt.show()"
      ]
    },
    {
      "cell_type": "code",
      "execution_count": 38,
      "metadata": {
        "ExecuteTime": {
          "end_time": "2018-11-08T00:20:58.050602Z",
          "start_time": "2018-11-08T00:20:55.021862Z"
        },
        "colab": {
          "base_uri": "https://localhost:8080/"
        },
        "id": "aih6xIrLYSXf",
        "outputId": "9098fdf9-c30f-4de5-e9aa-bae51e3e4dce"
      },
      "outputs": [
        {
          "output_type": "stream",
          "name": "stdout",
          "text": [
            "\u001b[1m483/483\u001b[0m \u001b[32m━━━━━━━━━━━━━━━━━━━━\u001b[0m\u001b[37m\u001b[0m \u001b[1m3s\u001b[0m 6ms/step\n"
          ]
        }
      ],
      "source": [
        "predicted_classes2 = sport_model.predict(test_X)"
      ]
    },
    {
      "cell_type": "code",
      "execution_count": 40,
      "metadata": {
        "ExecuteTime": {
          "end_time": "2018-11-08T00:20:58.262575Z",
          "start_time": "2018-11-08T00:20:58.052878Z"
        },
        "id": "u63N548BYSXf"
      },
      "outputs": [],
      "source": [
        "predicted_classes=[]\n",
        "for predicted_sport in predicted_classes2:\n",
        "    predicted_classes.append(predicted_sport.tolist().index(max(predicted_sport)))\n",
        "predicted_classes=np.array(predicted_classes)"
      ]
    },
    {
      "cell_type": "code",
      "execution_count": 41,
      "metadata": {
        "ExecuteTime": {
          "end_time": "2018-11-08T00:20:58.272559Z",
          "start_time": "2018-11-08T00:20:58.264703Z"
        },
        "colab": {
          "base_uri": "https://localhost:8080/"
        },
        "id": "Iy31LIa2YSXg",
        "outputId": "41af0113-519f-41eb-8e13-febcdf079a2f"
      },
      "outputs": [
        {
          "output_type": "execute_result",
          "data": {
            "text/plain": [
              "((15426,), (15426,))"
            ]
          },
          "metadata": {},
          "execution_count": 41
        }
      ],
      "source": [
        "predicted_classes.shape, test_Y.shape"
      ]
    },
    {
      "cell_type": "markdown",
      "metadata": {
        "id": "xwdYGEm9YSXg"
      },
      "source": [
        "# Aprendamos de los errores: Qué mejorar"
      ]
    },
    {
      "cell_type": "code",
      "execution_count": 42,
      "metadata": {
        "ExecuteTime": {
          "end_time": "2018-11-08T00:20:59.822110Z",
          "start_time": "2018-11-08T00:20:58.275464Z"
        },
        "colab": {
          "base_uri": "https://localhost:8080/",
          "height": 504
        },
        "id": "yKVt4NhQYSXg",
        "outputId": "8f7ed8d5-3433-41a7-d7a7-e3bb7d5c53b0"
      },
      "outputs": [
        {
          "output_type": "stream",
          "name": "stdout",
          "text": [
            "Found 11292 correct labels\n"
          ]
        },
        {
          "output_type": "display_data",
          "data": {
            "text/plain": [
              "<Figure size 640x480 with 9 Axes>"
            ],
            "image/png": "[encoded data removed]"
          },
          "metadata": {}
        }
      ],
      "source": [
        "correct = np.where(predicted_classes==test_Y)[0]\n",
        "print(\"Found %d correct labels\" % len(correct))\n",
        "for i, correct in enumerate(correct[0:9]):\n",
        "    plt.subplot(3,3,i+1)\n",
        "    plt.imshow(test_X[correct].reshape(21,28,3), cmap='gray', interpolation='none')\n",
        "    plt.title(\"{}, {}\".format(deportes[predicted_classes[correct]],\n",
        "                                                    deportes[test_Y[correct]]))\n",
        "\n",
        "    plt.tight_layout()"
      ]
    },
    {
      "cell_type": "code",
      "execution_count": 43,
      "metadata": {
        "ExecuteTime": {
          "end_time": "2018-11-08T00:21:00.942267Z",
          "start_time": "2018-11-08T00:20:59.829572Z"
        },
        "colab": {
          "base_uri": "https://localhost:8080/",
          "height": 504
        },
        "id": "qJRuxQ0jYSXg",
        "outputId": "9ee17de5-76d4-4fe1-cd09-4a90b4efea32"
      },
      "outputs": [
        {
          "output_type": "stream",
          "name": "stdout",
          "text": [
            "Found 4134 incorrect labels\n"
          ]
        },
        {
          "output_type": "display_data",
          "data": {
            "text/plain": [
              "<Figure size 640x480 with 9 Axes>"
            ],
            "image/png": "[encoded data removed]"
          },
          "metadata": {}
        }
      ],
      "source": [
        "incorrect = np.where(predicted_classes!=test_Y)[0]\n",
        "print(\"Found %d incorrect labels\" % len(incorrect))\n",
        "for i, incorrect in enumerate(incorrect[0:9]):\n",
        "    plt.subplot(3,3,i+1)\n",
        "    plt.imshow(test_X[incorrect].reshape(21,28,3), cmap='gray', interpolation='none')\n",
        "    plt.title(\"{}, {}\".format(deportes[predicted_classes[incorrect]],\n",
        "                                                    deportes[test_Y[incorrect]]))\n",
        "    plt.tight_layout()"
      ]
    },
    {
      "cell_type": "code",
      "execution_count": 44,
      "metadata": {
        "ExecuteTime": {
          "end_time": "2018-11-08T00:21:00.968727Z",
          "start_time": "2018-11-08T00:21:00.947262Z"
        },
        "colab": {
          "base_uri": "https://localhost:8080/"
        },
        "id": "0QaW3ic6YSXg",
        "outputId": "74c63af0-56f9-4742-87b1-a60373a324fa"
      },
      "outputs": [
        {
          "output_type": "stream",
          "name": "stdout",
          "text": [
            "              precision    recall  f1-score   support\n",
            "\n",
            "     Class 0       0.89      0.11      0.20      1000\n",
            "     Class 1       0.66      0.85      0.74      1705\n",
            "     Class 2       0.93      1.00      0.96      1822\n",
            "     Class 3       0.80      0.90      0.85      1401\n",
            "     Class 4       0.93      0.98      0.95      1476\n",
            "     Class 5       0.88      0.79      0.83      1031\n",
            "     Class 6       0.84      0.68      0.75      1559\n",
            "     Class 7       0.51      0.36      0.42      1873\n",
            "     Class 8       0.71      0.68      0.70      1599\n",
            "     Class 9       0.53      0.80      0.64      1960\n",
            "\n",
            "    accuracy                           0.73     15426\n",
            "   macro avg       0.77      0.71      0.70     15426\n",
            "weighted avg       0.75      0.73      0.71     15426\n",
            "\n"
          ]
        }
      ],
      "source": [
        "target_names = [\"Class {}\".format(i) for i in range(nClasses)]\n",
        "print(classification_report(test_Y, predicted_classes, target_names=target_names))"
      ]
    },
    {
      "cell_type": "markdown",
      "metadata": {
        "id": "tR_rwXyMYSXl"
      },
      "source": [
        "# Prediccion de una nueva imagen"
      ]
    },
    {
      "cell_type": "code",
      "execution_count": 60,
      "metadata": {
        "colab": {
          "base_uri": "https://localhost:8080/"
        },
        "id": "SYvFvymvYSXl",
        "outputId": "d6a74ecf-5a54-4e3f-aaeb-36beb4f49ce9"
      },
      "outputs": [
        {
          "output_type": "stream",
          "name": "stdout",
          "text": [
            "\u001b[1m1/1\u001b[0m \u001b[32m━━━━━━━━━━━━━━━━━━━━\u001b[0m\u001b[37m\u001b[0m \u001b[1m0s\u001b[0m 54ms/step\n",
            "sportimages/sportimages/golf/golf_0113.jpg golf\n"
          ]
        }
      ],
      "source": [
        "from skimage.transform import resize\n",
        "\n",
        "images=[]\n",
        "# AQUI ESPECIFICAMOS UNAS IMAGENES\n",
        "filenames = ['sportimages/sportimages/golf/golf_0113.jpg']\n",
        "\n",
        "for filepath in filenames:\n",
        "    image = plt.imread(filepath,0)\n",
        "    image_resized = resize(image, (21, 28),anti_aliasing=True,clip=False,preserve_range=True)\n",
        "    images.append(image_resized)\n",
        "\n",
        "X = np.array(images, dtype=np.uint8) #convierto de lista a numpy\n",
        "test_X = X.astype('float32')\n",
        "test_X = test_X / 255.\n",
        "\n",
        "predicted_classes = sport_model.predict(test_X)\n",
        "\n",
        "for i, img_tagged in enumerate(predicted_classes):\n",
        "    print(filenames[i], deportes[img_tagged.tolist().index(max(img_tagged))])"
      ]
    }
  ],
  "metadata": {
    "kernelspec": {
      "display_name": "Python 3 (ipykernel)",
      "language": "python",
      "name": "python3"
    },
    "language_info": {
      "codemirror_mode": {
        "name": "ipython",
        "version": 3
      },
      "file_extension": ".py",
      "mimetype": "text/x-python",
      "name": "python",
      "nbconvert_exporter": "python",
      "pygments_lexer": "ipython3",
      "version": "3.11.9"
    },
    "colab": {
      "provenance": []
    }
  },
  "nbformat": 4,
  "nbformat_minor": 0
}